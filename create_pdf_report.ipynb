{
  "cells": [
    {
      "cell_type": "code",
      "execution_count": 1,
      "id": "ab1e00d4-0340-49e3-a629-b82101cb19cc",
      "metadata": {
        "id": "ab1e00d4-0340-49e3-a629-b82101cb19cc",
        "outputId": "9b506d79-a3f6-4810-db9c-3d64949931e9",
        "colab": {
          "base_uri": "https://localhost:8080/"
        }
      },
      "outputs": [
        {
          "output_type": "stream",
          "name": "stdout",
          "text": [
            "Looking in indexes: https://pypi.org/simple, https://us-python.pkg.dev/colab-wheels/public/simple/\n",
            "Collecting git+https://github.com/UFM-Market-Trends/UFM-Market-Trends-SDK.git\n",
            "  Cloning https://github.com/UFM-Market-Trends/UFM-Market-Trends-SDK.git to /tmp/pip-req-build-_2uue8uj\n",
            "  Running command git clone --filter=blob:none --quiet https://github.com/UFM-Market-Trends/UFM-Market-Trends-SDK.git /tmp/pip-req-build-_2uue8uj\n",
            "  Resolved https://github.com/UFM-Market-Trends/UFM-Market-Trends-SDK.git to commit 85829d97a76f98bf4f6b589d15b761e78846635e\n",
            "  Preparing metadata (setup.py) ... \u001b[?25l\u001b[?25hdone\n",
            "Requirement already satisfied: requests in /usr/local/lib/python3.8/dist-packages (from ufmtrends-sdk==0.1.7) (2.25.1)\n",
            "Requirement already satisfied: certifi>=2017.4.17 in /usr/local/lib/python3.8/dist-packages (from requests->ufmtrends-sdk==0.1.7) (2022.12.7)\n",
            "Requirement already satisfied: chardet<5,>=3.0.2 in /usr/local/lib/python3.8/dist-packages (from requests->ufmtrends-sdk==0.1.7) (4.0.0)\n",
            "Requirement already satisfied: idna<3,>=2.5 in /usr/local/lib/python3.8/dist-packages (from requests->ufmtrends-sdk==0.1.7) (2.10)\n",
            "Requirement already satisfied: urllib3<1.27,>=1.21.1 in /usr/local/lib/python3.8/dist-packages (from requests->ufmtrends-sdk==0.1.7) (1.26.14)\n",
            "Building wheels for collected packages: ufmtrends-sdk\n",
            "  Building wheel for ufmtrends-sdk (setup.py) ... \u001b[?25l\u001b[?25hdone\n",
            "  Created wheel for ufmtrends-sdk: filename=ufmtrends_sdk-0.1.7-py3-none-any.whl size=13192 sha256=347eca55994a5c51c6539b1a2321ca1e99391833bd163c066c08d2b004d291c3\n",
            "  Stored in directory: /tmp/pip-ephem-wheel-cache-aosaxcw0/wheels/17/61/83/be47e25b19b9d500e7fb5ef710f29d33264a77a8a0cd5e1740\n",
            "Successfully built ufmtrends-sdk\n",
            "Installing collected packages: ufmtrends-sdk\n",
            "Successfully installed ufmtrends-sdk-0.1.7\n",
            "Looking in indexes: https://pypi.org/simple, https://us-python.pkg.dev/colab-wheels/public/simple/\n",
            "Collecting fpdf\n",
            "  Downloading fpdf-1.7.2.tar.gz (39 kB)\n",
            "  Preparing metadata (setup.py) ... \u001b[?25l\u001b[?25hdone\n",
            "Building wheels for collected packages: fpdf\n",
            "  Building wheel for fpdf (setup.py) ... \u001b[?25l\u001b[?25hdone\n",
            "  Created wheel for fpdf: filename=fpdf-1.7.2-py2.py3-none-any.whl size=40721 sha256=784d838d91aacfbaa6fd5a4e549bfc85ed51cceca77a91d344cc7457f52c7f9e\n",
            "  Stored in directory: /root/.cache/pip/wheels/b4/7f/00/f90ea7c44f8b921477205baa66a7aaf04be398f743ea946fd5\n",
            "Successfully built fpdf\n",
            "Installing collected packages: fpdf\n",
            "Successfully installed fpdf-1.7.2\n"
          ]
        }
      ],
      "source": [
        "!pip install git+https://github.com/UFM-Market-Trends/UFM-Market-Trends-SDK.git\n",
        "!pip install fpdf"
      ]
    },
    {
      "cell_type": "code",
      "execution_count": 2,
      "id": "cf53a8ce-1261-406b-ae5e-e0da23fe37ca",
      "metadata": {
        "id": "cf53a8ce-1261-406b-ae5e-e0da23fe37ca"
      },
      "outputs": [],
      "source": [
        "import ufmtrends_sdk as trends\n",
        "import os\n",
        "with open('DATAWRAPPER_API_TOKEN.txt') as f:\n",
        "    os.environ[\"DATAWRAPPER_API_TOKEN\"] = f.read()\n",
        "from ufmtrends_sdk import PDF\n",
        "import requests"
      ]
    },
    {
      "cell_type": "code",
      "execution_count": 3,
      "id": "f1518190-4743-4fe7-ae32-4a7fa4cd2eb8",
      "metadata": {
        "id": "f1518190-4743-4fe7-ae32-4a7fa4cd2eb8"
      },
      "outputs": [],
      "source": [
        "# https://stackoverflow.com/questions/30229231/python-save-image-from-url\n",
        "def download_image(image_url, image_name):\n",
        "  img_data = requests.get(image_url).content\n",
        "  with open(image_name, 'wb') as handler:\n",
        "      handler.write(img_data)"
      ]
    },
    {
      "cell_type": "code",
      "execution_count": 4,
      "id": "ea1ea2ae-7cd4-484b-8371-3a589f23978b",
      "metadata": {
        "id": "ea1ea2ae-7cd4-484b-8371-3a589f23978b"
      },
      "outputs": [],
      "source": [
        "bucket_folder = \"https://storage.googleapis.com/ufm-market-trends/united-states/pdf-images/\"\n",
        "\n",
        "download_image(bucket_folder + \"Market_Trends.png\",\n",
        "               \"InformePais.png\")\n",
        "download_image(bucket_folder + \"Market_Trends.png\",\n",
        "               \"MarketTrends.png\")\n",
        "download_image(bucket_folder + \"ContraPortadaTrends.png\",\n",
        "               \"ContraPortadaTrends.png\")\n",
        "download_image(bucket_folder + \"UFM-Market-Trends-Cover.png\",\n",
        "               \"PortadaTrends.png\")"
      ]
    },
    {
      "cell_type": "markdown",
      "id": "6af2bf83-b4b4-4e8b-9263-d6ac235cdb88",
      "metadata": {
        "id": "6af2bf83-b4b4-4e8b-9263-d6ac235cdb88"
      },
      "source": [
        "# Generate PDF Report"
      ]
    },
    {
      "cell_type": "code",
      "execution_count": 23,
      "id": "bcd5c56a-161c-4e49-b9ce-a54cc29e5562",
      "metadata": {
        "id": "bcd5c56a-161c-4e49-b9ce-a54cc29e5562",
        "outputId": "8183d193-0046-46b4-f9c5-612fa7d4cfb6",
        "colab": {
          "base_uri": "https://localhost:8080/",
          "height": 1000
        }
      },
      "outputs": [
        {
          "output_type": "stream",
          "name": "stdout",
          "text": [
            "changing cover to  True\n",
            "Adding image...\n",
            "changing cover to  False\n",
            "is cover?  True\n",
            "Adding image...\n",
            "https://api.datawrapper.de/v3/charts/EbLbc/export/png?unit=px&mode=rgb&width=650&height=auto&plain=false&scale=1&zoom=2&download=false&fullVector=false&ligatures=true&transparent=false&logo=auto&dark=false&borderWidth=0\n",
            "https://api.datawrapper.de/v3/charts/CmAvD/export/png?unit=px&mode=rgb&width=650&height=auto&plain=false&scale=1&zoom=2&download=false&fullVector=false&ligatures=true&transparent=false&logo=auto&dark=false&borderWidth=0\n",
            "https://api.datawrapper.de/v3/charts/LtWGs/export/png?unit=px&mode=rgb&width=650&height=280&plain=false&scale=1&zoom=2&download=false&fullVector=false&ligatures=true&transparent=false&logo=auto&dark=false&borderWidth=0\n",
            "switch right\n",
            "https://api.datawrapper.de/v3/charts/4avor/export/png?unit=px&mode=rgb&width=650&height=auto&plain=false&scale=1&zoom=2&download=false&fullVector=false&ligatures=true&transparent=false&logo=auto&dark=false&borderWidth=0\n",
            "https://api.datawrapper.de/v3/charts/fkaMa/export/png?unit=px&mode=rgb&width=650&height=auto&plain=false&scale=1&zoom=2&download=false&fullVector=false&ligatures=true&transparent=false&logo=auto&dark=false&borderWidth=0\n",
            "https://api.datawrapper.de/v3/charts/DfB27/export/png?unit=px&mode=rgb&width=650&height=400&plain=false&scale=1&zoom=2&download=false&fullVector=false&ligatures=true&transparent=false&logo=auto&dark=false&borderWidth=0\n",
            "https://api.datawrapper.de/v3/charts/3FVph/export/png?unit=px&mode=rgb&width=650&height=auto&plain=false&scale=1&zoom=2&download=false&fullVector=false&ligatures=true&transparent=false&logo=auto&dark=false&borderWidth=0\n",
            "switch left\n",
            "changing cover to  False\n",
            "is cover?  False\n",
            "Adding image...\n",
            "https://api.datawrapper.de/v3/charts/q7Opu/export/png?unit=px&mode=rgb&width=650&height=auto&plain=false&scale=1&zoom=2&download=false&fullVector=false&ligatures=true&transparent=false&logo=auto&dark=false&borderWidth=0\n",
            "https://api.datawrapper.de/v3/charts/uMzLY/export/png?unit=px&mode=rgb&width=650&height=400&plain=false&scale=1&zoom=2&download=false&fullVector=false&ligatures=true&transparent=false&logo=auto&dark=false&borderWidth=0\n",
            "switch right\n",
            "https://api.datawrapper.de/v3/charts/1HtAw/export/png?unit=px&mode=rgb&width=650&height=auto&plain=false&scale=1&zoom=2&download=false&fullVector=false&ligatures=true&transparent=false&logo=auto&dark=false&borderWidth=0\n",
            "https://api.datawrapper.de/v3/charts/y4idO/export/png?unit=px&mode=rgb&width=650&height=auto&plain=false&scale=1&zoom=2&download=false&fullVector=false&ligatures=true&transparent=false&logo=auto&dark=false&borderWidth=0\n",
            "https://api.datawrapper.de/v3/charts/xljW4/export/png?unit=px&mode=rgb&width=650&height=400&plain=false&scale=1&zoom=2&download=false&fullVector=false&ligatures=true&transparent=false&logo=auto&dark=false&borderWidth=0\n",
            "https://api.datawrapper.de/v3/charts/cbBtB/export/png?unit=px&mode=rgb&width=650&height=auto&plain=false&scale=1&zoom=2&download=false&fullVector=false&ligatures=true&transparent=false&logo=auto&dark=false&borderWidth=0\n",
            "switch left\n",
            "changing cover to  False\n",
            "is cover?  False\n",
            "Adding image...\n",
            "https://api.datawrapper.de/v3/charts/sgeZE/export/png?unit=px&mode=rgb&width=650&height=auto&plain=false&scale=1&zoom=2&download=false&fullVector=false&ligatures=true&transparent=false&logo=auto&dark=false&borderWidth=0\n",
            "https://api.datawrapper.de/v3/charts/07re8/export/png?unit=px&mode=rgb&width=650&height=auto&plain=false&scale=1&zoom=2&download=false&fullVector=false&ligatures=true&transparent=false&logo=auto&dark=false&borderWidth=0\n",
            "switch right\n",
            "https://api.datawrapper.de/v3/charts/L1fop/export/png?unit=px&mode=rgb&width=650&height=auto&plain=false&scale=1&zoom=2&download=false&fullVector=false&ligatures=true&transparent=false&logo=auto&dark=false&borderWidth=0\n",
            "https://api.datawrapper.de/v3/charts/XDfun/export/png?unit=px&mode=rgb&width=650&height=auto&plain=false&scale=1&zoom=2&download=false&fullVector=false&ligatures=true&transparent=false&logo=auto&dark=false&borderWidth=0\n",
            "https://api.datawrapper.de/v3/charts/VaC8T/export/png?unit=px&mode=rgb&width=650&height=auto&plain=false&scale=1&zoom=2&download=false&fullVector=false&ligatures=true&transparent=false&logo=auto&dark=false&borderWidth=0\n",
            "switch left\n",
            "changing cover to  False\n",
            "is cover?  False\n",
            "Adding image...\n",
            "https://api.datawrapper.de/v3/charts/0HVul/export/png?unit=px&mode=rgb&width=650&height=auto&plain=false&scale=1&zoom=2&download=false&fullVector=false&ligatures=true&transparent=false&logo=auto&dark=false&borderWidth=0\n",
            "https://api.datawrapper.de/v3/charts/nGXhb/export/png?unit=px&mode=rgb&width=650&height=auto&plain=false&scale=1&zoom=2&download=false&fullVector=false&ligatures=true&transparent=false&logo=auto&dark=false&borderWidth=0\n",
            "https://api.datawrapper.de/v3/charts/CuzEL/export/png?unit=px&mode=rgb&width=650&height=auto&plain=false&scale=1&zoom=2&download=false&fullVector=false&ligatures=true&transparent=false&logo=auto&dark=false&borderWidth=0\n",
            "switch right\n",
            "https://api.datawrapper.de/v3/charts/mOmfl/export/png?unit=px&mode=rgb&width=650&height=auto&plain=false&scale=1&zoom=2&download=false&fullVector=false&ligatures=true&transparent=false&logo=auto&dark=false&borderWidth=0\n",
            "https://api.datawrapper.de/v3/charts/rRR1b/export/png?unit=px&mode=rgb&width=650&height=400&plain=false&scale=1&zoom=2&download=false&fullVector=false&ligatures=true&transparent=false&logo=auto&dark=false&borderWidth=0\n",
            "https://api.datawrapper.de/v3/charts/DV6B9/export/png?unit=px&mode=rgb&width=650&height=400&plain=false&scale=1&zoom=2&download=false&fullVector=false&ligatures=true&transparent=false&logo=auto&dark=false&borderWidth=0\n",
            "switch left\n",
            "changing cover to  False\n",
            "is cover?  False\n",
            "Adding image...\n",
            "https://api.datawrapper.de/v3/charts/l6jis/export/png?unit=px&mode=rgb&width=650&height=auto&plain=false&scale=1&zoom=2&download=false&fullVector=false&ligatures=true&transparent=false&logo=auto&dark=false&borderWidth=0\n",
            "https://api.datawrapper.de/v3/charts/grayO/export/png?unit=px&mode=rgb&width=650&height=auto&plain=false&scale=1&zoom=2&download=false&fullVector=false&ligatures=true&transparent=false&logo=auto&dark=false&borderWidth=0\n",
            "https://api.datawrapper.de/v3/charts/3D17z/export/png?unit=px&mode=rgb&width=650&height=400&plain=false&scale=1&zoom=2&download=false&fullVector=false&ligatures=true&transparent=false&logo=auto&dark=false&borderWidth=0\n",
            "switch right\n",
            "https://api.datawrapper.de/v3/charts/C2bBj/export/png?unit=px&mode=rgb&width=650&height=auto&plain=false&scale=1&zoom=2&download=false&fullVector=false&ligatures=true&transparent=false&logo=auto&dark=false&borderWidth=0\n",
            "https://api.datawrapper.de/v3/charts/p5jWF/export/png?unit=px&mode=rgb&width=650&height=400&plain=false&scale=1&zoom=2&download=false&fullVector=false&ligatures=true&transparent=false&logo=auto&dark=false&borderWidth=0\n",
            "https://api.datawrapper.de/v3/charts/h1aBw/export/png?unit=px&mode=rgb&width=650&height=auto&plain=false&scale=1&zoom=2&download=false&fullVector=false&ligatures=true&transparent=false&logo=auto&dark=false&borderWidth=0\n",
            "switch left\n",
            "changing cover to  False\n",
            "is cover?  False\n",
            "Adding image...\n",
            "https://api.datawrapper.de/v3/charts/JKIii/export/png?unit=px&mode=rgb&width=650&height=400&plain=false&scale=1&zoom=2&download=false&fullVector=false&ligatures=true&transparent=false&logo=auto&dark=false&borderWidth=0\n",
            "https://api.datawrapper.de/v3/charts/Me9uK/export/png?unit=px&mode=rgb&width=650&height=400&plain=false&scale=1&zoom=2&download=false&fullVector=false&ligatures=true&transparent=false&logo=auto&dark=false&borderWidth=0\n",
            "https://api.datawrapper.de/v3/charts/GJnF7/export/png?unit=px&mode=rgb&width=650&height=400&plain=false&scale=1&zoom=2&download=false&fullVector=false&ligatures=true&transparent=false&logo=auto&dark=false&borderWidth=0\n",
            "switch right\n",
            "https://api.datawrapper.de/v3/charts/YMDLO/export/png?unit=px&mode=rgb&width=650&height=auto&plain=false&scale=1&zoom=2&download=false&fullVector=false&ligatures=true&transparent=false&logo=auto&dark=false&borderWidth=0\n",
            "https://api.datawrapper.de/v3/charts/7DSUF/export/png?unit=px&mode=rgb&width=650&height=auto&plain=false&scale=1&zoom=2&download=false&fullVector=false&ligatures=true&transparent=false&logo=auto&dark=false&borderWidth=0\n",
            "is cover?  False\n"
          ]
        },
        {
          "output_type": "execute_result",
          "data": {
            "text/plain": [
              "''"
            ],
            "application/vnd.google.colaboratory.intrinsic+json": {
              "type": "string"
            }
          },
          "metadata": {},
          "execution_count": 23
        }
      ],
      "source": [
        "pdf = PDF('P', 'mm', 'Letter', default_label=\"InformePais.png\", secondary_label=\"MarketTrends.png\",\n",
        "                 title_color=(237, 28, 36), delete_temp=False)\n",
        "\n",
        "LINE_BREAK_SIZE = 5\n",
        "\n",
        "pdf.set_top_margin(10)\n",
        "pdf.set_left_margin(10)\n",
        "pdf.add_page(isCover=True)\n",
        "pdf.image('PortadaTrends.png', 0, 0, pdf.WIDTH)\n",
        "\n",
        "pdf.add_page()\n",
        "pdf.insert_title(text=\"1. Economic Acitivity\")\n",
        "\n",
        "pdf.insert_subtitle1(\"1.1 Gross Domestic Product (GDP)\")\n",
        "\n",
        "pdf.insert_subtitle2(\"1.1.1 Real Gross Domestic Product\")\n",
        "pdf.ln(LINE_BREAK_SIZE)\n",
        "# pdf.insert_paragraph('''''')\n",
        "\n",
        "# pdf.insert_chart('real-gdp', 'EbLbc', None, None, pdf.WIDTH/2-15, \n",
        "#                  650,\n",
        "#                  \"auto\" \n",
        "#                 #  292\n",
        "#                  )\n",
        "pdf.insert_650xauto_chart('real-gdp', 'EbLbc')\n",
        "\n",
        "# pdf.insert_subtitle2(\"Gross Output (GO)\")\n",
        "\n",
        "pdf.insert_subtitle2(\"1.1.2 Gross Output (GO)\")\n",
        "pdf.ln(LINE_BREAK_SIZE)\n",
        "# pdf.insert_paragraph('''''')\n",
        "\n",
        "pdf.insert_650xauto_chart('real-go', 'CmAvD')\n",
        "\n",
        "# pdf.insert_subtitle1(\"Gross Domestic Product (GDP)\")\n",
        "\n",
        "\n",
        "pdf.insert_subtitle1(\"1.2 Industrial Production Index (IPI)\")\n",
        "\n",
        "pdf.insert_WIDTHxHEIGHT_chart('industrial-production-index', 'LtWGs',\n",
        "                              650, 280)\n",
        "\n",
        "pdf.insert_subtitle1(\"1.3 Demand for Cyclical Consumer Goods\")\n",
        "\n",
        "pdf.insert_subtitle2(\"1.3.1 Housing Demand\")\n",
        "\n",
        "pdf.insert_650xauto_chart('building-permits', '4avor')\n",
        "\n",
        "pdf.insert_subtitle2(\"1.3.2 Auto Demand\")\n",
        "pdf.ln(LINE_BREAK_SIZE)\n",
        "\n",
        "pdf.insert_650xauto_chart('domestic-auto-inventories', 'fkaMa')\n",
        "\n",
        "pdf.insert_WIDTHxHEIGHT_chart('auto-inventory-sales-ratio', 'DfB27',\n",
        "                              650, 400)\n",
        "\n",
        "pdf.insert_650xauto_chart('total-vehicle-sales', '3FVph')\n",
        "\n",
        "pdf.insert_title(text=\"2. Labor Market\")\n",
        "\n",
        "pdf.insert_subtitle1(\"2.1 Unemployment\")\n",
        "\n",
        "pdf.insert_650xauto_chart('unemployment-rate', 'q7Opu')\n",
        "\n",
        "pdf.insert_subtitle1(\"2.2 Initial Jobless Claims\")\n",
        "\n",
        "pdf.insert_WIDTHxHEIGHT_chart('initial-weekly-jobless-claims', 'uMzLY',\n",
        "                              650, 400)\n",
        "\n",
        "pdf.insert_title(text=\"3. Inflation and Prices\")\n",
        "\n",
        "pdf.insert_subtitle1(\"3.1 Money Supply\")\n",
        "\n",
        "pdf.insert_650xauto_chart('m1-money-supply', '1HtAw')\n",
        "\n",
        "pdf.insert_subtitle1(\"3.2 Monetary Policy\")\n",
        "\n",
        "pdf.insert_650xauto_chart('monetary-base', 'y4idO')\n",
        "\n",
        "pdf.insert_WIDTHxHEIGHT_chart('3-month-libor', 'xljW4', 650, 400)\n",
        "\n",
        "pdf.insert_650xauto_chart('overnight-repo-rate', 'cbBtB')\n",
        "\n",
        "pdf.insert_650xauto_chart('fed-funds-rate', 'sgeZE')\n",
        "\n",
        "pdf.insert_650xauto_chart('interest-on-reserve-balances', '07re8')\n",
        "\n",
        "pdf.ln(15)\n",
        "pdf.insert_subtitle1(\"3.3 Stock Market\")\n",
        "\n",
        "pdf.insert_650xauto_chart('sp-500', 'L1fop')\n",
        "\n",
        "pdf.insert_650xauto_chart('nasdaq-composite-index', 'XDfun')\n",
        "\n",
        "pdf.insert_650xauto_chart('dow-jones-industrial-average', 'VaC8T')\n",
        "\n",
        "\n",
        "pdf.ln(15)\n",
        "pdf.insert_subtitle1(\"3.4 Consumer Price Index (CPI)\")\n",
        "\n",
        "pdf.insert_650xauto_chart('consumer-price-index-for-all-urban-consumers', '0HVul')\n",
        "\n",
        "pdf.insert_650xauto_chart('sticky-price-consumer-price-index-less-food-and-energy', 'nGXhb')\n",
        "\n",
        "pdf.insert_650xauto_chart('personal-consumption-expenditures-excluding-food-and-energy', 'CuzEL')\n",
        "\n",
        "pdf.ln(15)\n",
        "pdf.insert_subtitle1(\"3.5 Producer Price Index (Final Demand)\")\n",
        "\n",
        "pdf.insert_650xauto_chart('producer-price-index-by-commodity-final-demand', 'mOmfl')\n",
        "\n",
        "pdf.insert_subtitle1(\"3.6 Forward Inflation\")\n",
        "\n",
        "# pdf.insert_650xauto_chart('10-year-expected-inflation', 'rRR1b')\n",
        "pdf.insert_WIDTHxHEIGHT_chart('10-year-expected-inflation-2', 'rRR1b', 650, 400)\n",
        "\n",
        "\n",
        "pdf.insert_title(text=\"4. Interest Rates, Credit, and Banking\")\n",
        "\n",
        "pdf.insert_subtitle1(\"4.1 TIPS Yield Curve\")\n",
        "\n",
        "# pdf.insert_650xauto_chart('tips-yield-curve', 'DV6B9')\n",
        "pdf.insert_WIDTHxHEIGHT_chart('tips-yield-curve-2', 'DV6B9', 650, 400)\n",
        "\n",
        "\n",
        "pdf.insert_subtitle1(\"4.2 Corporate Yields\")\n",
        "\n",
        "pdf.insert_650xauto_chart('corporate-yields', 'l6jis')\n",
        "\n",
        "pdf.insert_subtitle1(\"4.3 Secured Overnight Financing Rate\")\n",
        "\n",
        "pdf.insert_650xauto_chart('secured-overnight-financing-rate', 'grayO')\n",
        "\n",
        "\n",
        "pdf.insert_subtitle1(\"4.4 Household Debt\")\n",
        "\n",
        "# pdf.insert_650xauto_chart('household-debt', '3D17z')\n",
        "pdf.insert_WIDTHxHEIGHT_chart('household-debt-2', '3D17z', 650, 400)\n",
        "\n",
        "\n",
        "pdf.insert_subtitle1(\"4.5 Corporate Liquidity\")\n",
        "\n",
        "pdf.insert_650xauto_chart('corporate-liquidity', 'C2bBj')\n",
        "\n",
        "\n",
        "pdf.insert_subtitle1(\"4.6 Commercial Loans\")\n",
        "\n",
        "# pdf.insert_650xauto_chart('commercial-loans', 'p5jWF')\n",
        "pdf.insert_WIDTHxHEIGHT_chart('commercial-loans-2', 'p5jWF', 650, 400)\n",
        "\n",
        "\n",
        "pdf.insert_subtitle1(\"4.7 Delinquency Rate\")\n",
        "\n",
        "pdf.insert_650xauto_chart('delinquency-rates', 'h1aBw')\n",
        "\n",
        "\n",
        "# pdf.insert_subtitle1(\"4.8 Commercial Loans\")\n",
        "\n",
        "# pdf.insert_650xauto_chart('commercial-loans', 'b84zr')\n",
        "\n",
        "\n",
        "pdf.insert_title(\"5. Fiscal Outlook\")\n",
        "\n",
        "pdf.insert_subtitle1(\"5.1 Public Debt\")\n",
        "\n",
        "# pdf.insert_650xauto_chart('public-debt', 'JKIii')\n",
        "pdf.insert_WIDTHxHEIGHT_chart('public-debt-2', 'JKIii', 650, 400)\n",
        "\n",
        "\n",
        "pdf.insert_subtitle1(\"5.2 Current Tax Receipts\")\n",
        "\n",
        "# pdf.insert_650xauto_chart('current-tax-receipts', 'Me9uK')\n",
        "pdf.insert_WIDTHxHEIGHT_chart('current-tax-receipts-2', 'Me9uK', 650, 400)\n",
        "\n",
        "\n",
        "\n",
        "pdf.insert_title(\"6. International Trade\")\n",
        "\n",
        "pdf.insert_subtitle1(\"6.1 Broad Dollar Index\")\n",
        "\n",
        "# pdf.insert_650xauto_chart('broad-dollar-index', 'GJnF7')\n",
        "pdf.insert_WIDTHxHEIGHT_chart('broad-dollar-index-2', 'GJnF7', 650, 400)\n",
        "\n",
        "pdf.ln(LINE_BREAK_SIZE)\n",
        "\n",
        "pdf.insert_subtitle1(\"6.2 Balance on Current Account, NIPA's\")\n",
        "\n",
        "pdf.insert_650xauto_chart('broad-dollar-index', 'YMDLO')\n",
        "\n",
        "\n",
        "pdf.insert_subtitle1(\"6.3 Net International Investment Position\")\n",
        "\n",
        "pdf.insert_650xauto_chart('international-investment-position', '7DSUF')\n",
        "\n",
        "# pdf.add_page()\n",
        "# pdf.insert_title(text=\"Economic Acitivity\")\n",
        "# pdf.insert_title(text=\"This is a test\")\n",
        "# pdf.insert_420x280_chart('GDPC1', 'EbLbc')\n",
        "pdf.output(\"united-states-report-ufm-market-trends.pdf\", \"F\")"
      ]
    },
    {
      "cell_type": "markdown",
      "id": "f62aa24b-a3bf-4f41-83da-65adcd7cfc15",
      "metadata": {
        "id": "f62aa24b-a3bf-4f41-83da-65adcd7cfc15"
      },
      "source": [
        "# Upload to Cloud Storage"
      ]
    },
    {
      "cell_type": "code",
      "execution_count": 10,
      "id": "fb3f4f11-9443-4b67-a370-e3c0caf337ff",
      "metadata": {
        "id": "fb3f4f11-9443-4b67-a370-e3c0caf337ff"
      },
      "outputs": [],
      "source": [
        "# Not needed in Vertex AI\n",
        "# from google.colab import auth\n",
        "# auth.authenticate_user()\n",
        "\n",
        "project_id = 'ufm-market-trends'"
      ]
    },
    {
      "cell_type": "code",
      "execution_count": 11,
      "id": "c803d123-43b4-451c-b87f-51f7ebf4ca43",
      "metadata": {
        "id": "c803d123-43b4-451c-b87f-51f7ebf4ca43"
      },
      "outputs": [],
      "source": [
        "from googleapiclient.discovery import build\n",
        "gcs_service = build('storage', 'v1')"
      ]
    },
    {
      "cell_type": "code",
      "execution_count": 12,
      "id": "62bdf99e-31e0-43f3-8f4c-f8ce9f506904",
      "metadata": {
        "id": "62bdf99e-31e0-43f3-8f4c-f8ce9f506904"
      },
      "outputs": [],
      "source": [
        "from googleapiclient.http import MediaFileUpload\n",
        "\n",
        "def upload_to_cloud_storage(local_name, destination_path=None):\n",
        "  media = MediaFileUpload(local_name, \n",
        "                          mimetype='text/plain',\n",
        "                          resumable=True)\n",
        "\n",
        "  request = gcs_service.objects().insert(bucket='ufm-market-trends', \n",
        "                                        name=(\n",
        "                                            destination_path\n",
        "                                            if destination_path!=None\n",
        "                                            else \"united-states/\"+local_name),\n",
        "                                        media_body=media)\n",
        "\n",
        "  response = None\n",
        "  while response is None:\n",
        "    # _ is a placeholder for a progress object that we ignore.\n",
        "    # (Our file is small, so we skip reporting progress.)\n",
        "    _, response = request.next_chunk()\n",
        "\n",
        "  print('Upload complete')\n",
        "  print('https://console.cloud.google.com/storage/browser?project={}'.format(project_id))"
      ]
    },
    {
      "cell_type": "code",
      "execution_count": 13,
      "id": "25a01f79-9e00-4892-8ca7-0eae5b7c4681",
      "metadata": {
        "id": "25a01f79-9e00-4892-8ca7-0eae5b7c4681",
        "outputId": "547925c7-c327-40a8-8749-ae26057d231b",
        "colab": {
          "base_uri": "https://localhost:8080/"
        }
      },
      "outputs": [
        {
          "output_type": "stream",
          "name": "stdout",
          "text": [
            "Upload complete\n",
            "https://console.cloud.google.com/storage/browser?project=ufm-market-trends\n"
          ]
        }
      ],
      "source": [
        "upload_to_cloud_storage(\"united-states-report-ufm-market-trends.pdf\")"
      ]
    },
    {
      "cell_type": "code",
      "execution_count": null,
      "id": "c10dcd8a-1b55-40d6-b1e7-03ae2a94d69a",
      "metadata": {
        "id": "c10dcd8a-1b55-40d6-b1e7-03ae2a94d69a"
      },
      "outputs": [],
      "source": []
    },
    {
      "cell_type": "code",
      "execution_count": null,
      "id": "62119459-31ce-493e-bc51-1add83e10cb3",
      "metadata": {
        "id": "62119459-31ce-493e-bc51-1add83e10cb3"
      },
      "outputs": [],
      "source": []
    },
    {
      "cell_type": "code",
      "execution_count": null,
      "id": "45e63f12-e3ae-43f1-8a4e-b822d3f2d2fa",
      "metadata": {
        "id": "45e63f12-e3ae-43f1-8a4e-b822d3f2d2fa"
      },
      "outputs": [],
      "source": []
    },
    {
      "cell_type": "code",
      "execution_count": null,
      "id": "50fff767-ac51-4525-acc2-2fc1133adcaf",
      "metadata": {
        "id": "50fff767-ac51-4525-acc2-2fc1133adcaf"
      },
      "outputs": [],
      "source": []
    }
  ],
  "metadata": {
    "kernelspec": {
      "display_name": "Python (Local)",
      "language": "python",
      "name": "local-base"
    },
    "language_info": {
      "codemirror_mode": {
        "name": "ipython",
        "version": 3
      },
      "file_extension": ".py",
      "mimetype": "text/x-python",
      "name": "python",
      "nbconvert_exporter": "python",
      "pygments_lexer": "ipython3",
      "version": "3.7.12"
    },
    "colab": {
      "provenance": []
    }
  },
  "nbformat": 4,
  "nbformat_minor": 5
}