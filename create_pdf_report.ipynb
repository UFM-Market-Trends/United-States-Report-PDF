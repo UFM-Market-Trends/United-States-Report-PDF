{
 "cells": [
  {
   "cell_type": "code",
   "execution_count": 1,
   "id": "ab1e00d4-0340-49e3-a629-b82101cb19cc",
   "metadata": {},
   "outputs": [
    {
     "name": "stdout",
     "output_type": "stream",
     "text": [
      "Collecting git+https://github.com/UFM-Market-Trends/UFM-Market-Trends-SDK.git\n",
      "  Cloning https://github.com/UFM-Market-Trends/UFM-Market-Trends-SDK.git to /tmp/pip-req-build-fkqhp4i9\n",
      "  Running command git clone --filter=blob:none --quiet https://github.com/UFM-Market-Trends/UFM-Market-Trends-SDK.git /tmp/pip-req-build-fkqhp4i9\n",
      "  Resolved https://github.com/UFM-Market-Trends/UFM-Market-Trends-SDK.git to commit 85829d97a76f98bf4f6b589d15b761e78846635e\n",
      "  Preparing metadata (setup.py) ... \u001b[?25ldone\n",
      "\u001b[?25hRequirement already satisfied: requests in /opt/conda/lib/python3.7/site-packages (from ufmtrends-sdk==0.1.7) (2.28.2)\n",
      "Requirement already satisfied: idna<4,>=2.5 in /opt/conda/lib/python3.7/site-packages (from requests->ufmtrends-sdk==0.1.7) (3.4)\n",
      "Requirement already satisfied: charset-normalizer<4,>=2 in /opt/conda/lib/python3.7/site-packages (from requests->ufmtrends-sdk==0.1.7) (2.1.1)\n",
      "Requirement already satisfied: certifi>=2017.4.17 in /opt/conda/lib/python3.7/site-packages (from requests->ufmtrends-sdk==0.1.7) (2022.12.7)\n",
      "Requirement already satisfied: urllib3<1.27,>=1.21.1 in /opt/conda/lib/python3.7/site-packages (from requests->ufmtrends-sdk==0.1.7) (1.26.14)\n",
      "Building wheels for collected packages: ufmtrends-sdk\n",
      "  Building wheel for ufmtrends-sdk (setup.py) ... \u001b[?25ldone\n",
      "\u001b[?25h  Created wheel for ufmtrends-sdk: filename=ufmtrends_sdk-0.1.7-py3-none-any.whl size=13174 sha256=2841f18cdd0e34d486d1a26db85647d46bda9c94651778b303193e7e309b252e\n",
      "  Stored in directory: /tmp/pip-ephem-wheel-cache-zeonyx7b/wheels/d8/63/72/fd94fcb7285b31cd0125721e8d1340b8842b4efc3b6d212027\n",
      "Successfully built ufmtrends-sdk\n",
      "Installing collected packages: ufmtrends-sdk\n",
      "Successfully installed ufmtrends-sdk-0.1.7\n",
      "Collecting fpdf\n",
      "  Using cached fpdf-1.7.2-py2.py3-none-any.whl\n",
      "Installing collected packages: fpdf\n",
      "Successfully installed fpdf-1.7.2\n"
     ]
    }
   ],
   "source": [
    "!pip install git+https://github.com/UFM-Market-Trends/UFM-Market-Trends-SDK.git\n",
    "!pip install fpdf"
   ]
  },
  {
   "cell_type": "code",
   "execution_count": 2,
   "id": "cf53a8ce-1261-406b-ae5e-e0da23fe37ca",
   "metadata": {},
   "outputs": [],
   "source": [
    "import ufmtrends_sdk as trends\n",
    "import os\n",
    "with open('DATAWRAPPER_API_TOKEN.txt') as f:\n",
    "    os.environ[\"DATAWRAPPER_API_TOKEN\"] = f.read()\n",
    "from ufmtrends_sdk import PDF\n",
    "import requests"
   ]
  },
  {
   "cell_type": "code",
   "execution_count": 3,
   "id": "f1518190-4743-4fe7-ae32-4a7fa4cd2eb8",
   "metadata": {},
   "outputs": [],
   "source": [
    "# https://stackoverflow.com/questions/30229231/python-save-image-from-url\n",
    "def download_image(image_url, image_name):\n",
    "  img_data = requests.get(image_url).content\n",
    "  with open(image_name, 'wb') as handler:\n",
    "      handler.write(img_data)"
   ]
  },
  {
   "cell_type": "code",
   "execution_count": 4,
   "id": "ea1ea2ae-7cd4-484b-8371-3a589f23978b",
   "metadata": {},
   "outputs": [],
   "source": [
    "bucket_folder = \"https://storage.googleapis.com/ufm-market-trends/united-states/pdf-images/\"\n",
    "\n",
    "download_image(bucket_folder + \"InformePais.png\",\n",
    "               \"InformePais.png\")\n",
    "download_image(bucket_folder + \"Market_Trends.png\",\n",
    "               \"MarketTrends.png\")\n",
    "download_image(bucket_folder + \"ContraPortadaTrends.png\",\n",
    "               \"ContraPortadaTrends.png\")\n",
    "download_image(bucket_folder + \"PortadaTrends.png\",\n",
    "               \"PortadaTrends.png\")"
   ]
  },
  {
   "cell_type": "markdown",
   "id": "6af2bf83-b4b4-4e8b-9263-d6ac235cdb88",
   "metadata": {},
   "source": [
    "# Generate PDF Report"
   ]
  },
  {
   "cell_type": "code",
   "execution_count": 5,
   "id": "bcd5c56a-161c-4e49-b9ce-a54cc29e5562",
   "metadata": {},
   "outputs": [
    {
     "name": "stdout",
     "output_type": "stream",
     "text": [
      "changing cover to  True\n",
      "Adding image...\n",
      "changing cover to  False\n",
      "is cover?  True\n",
      "Adding image...\n",
      "https://api.datawrapper.de/v3/charts/EbLbc/export/png?unit=px&mode=rgb&width=650&height=auto&plain=false&scale=1&zoom=2&download=false&fullVector=false&ligatures=true&transparent=false&logo=auto&dark=false&borderWidth=0\n",
      "https://api.datawrapper.de/v3/charts/CmAvD/export/png?unit=px&mode=rgb&width=650&height=auto&plain=false&scale=1&zoom=2&download=false&fullVector=false&ligatures=true&transparent=false&logo=auto&dark=false&borderWidth=0\n",
      "https://api.datawrapper.de/v3/charts/LtWGs/export/png?unit=px&mode=rgb&width=650&height=280&plain=false&scale=1&zoom=2&download=false&fullVector=false&ligatures=true&transparent=false&logo=auto&dark=false&borderWidth=0\n",
      "switch right\n",
      "https://api.datawrapper.de/v3/charts/4avor/export/png?unit=px&mode=rgb&width=650&height=auto&plain=false&scale=1&zoom=2&download=false&fullVector=false&ligatures=true&transparent=false&logo=auto&dark=false&borderWidth=0\n",
      "https://api.datawrapper.de/v3/charts/fkaMa/export/png?unit=px&mode=rgb&width=650&height=auto&plain=false&scale=1&zoom=2&download=false&fullVector=false&ligatures=true&transparent=false&logo=auto&dark=false&borderWidth=0\n",
      "https://api.datawrapper.de/v3/charts/DfB27/export/png?unit=px&mode=rgb&width=650&height=400&plain=false&scale=1&zoom=2&download=false&fullVector=false&ligatures=true&transparent=false&logo=auto&dark=false&borderWidth=0\n",
      "https://api.datawrapper.de/v3/charts/3FVph/export/png?unit=px&mode=rgb&width=650&height=auto&plain=false&scale=1&zoom=2&download=false&fullVector=false&ligatures=true&transparent=false&logo=auto&dark=false&borderWidth=0\n",
      "switch left\n",
      "changing cover to  False\n",
      "is cover?  False\n",
      "Adding image...\n",
      "https://api.datawrapper.de/v3/charts/q7Opu/export/png?unit=px&mode=rgb&width=650&height=auto&plain=false&scale=1&zoom=2&download=false&fullVector=false&ligatures=true&transparent=false&logo=auto&dark=false&borderWidth=0\n",
      "https://api.datawrapper.de/v3/charts/uMzLY/export/png?unit=px&mode=rgb&width=650&height=400&plain=false&scale=1&zoom=2&download=false&fullVector=false&ligatures=true&transparent=false&logo=auto&dark=false&borderWidth=0\n",
      "switch right\n",
      "https://api.datawrapper.de/v3/charts/1HtAw/export/png?unit=px&mode=rgb&width=650&height=auto&plain=false&scale=1&zoom=2&download=false&fullVector=false&ligatures=true&transparent=false&logo=auto&dark=false&borderWidth=0\n",
      "https://api.datawrapper.de/v3/charts/y4idO/export/png?unit=px&mode=rgb&width=650&height=auto&plain=false&scale=1&zoom=2&download=false&fullVector=false&ligatures=true&transparent=false&logo=auto&dark=false&borderWidth=0\n",
      "https://api.datawrapper.de/v3/charts/xljW4/export/png?unit=px&mode=rgb&width=650&height=400&plain=false&scale=1&zoom=2&download=false&fullVector=false&ligatures=true&transparent=false&logo=auto&dark=false&borderWidth=0\n",
      "https://api.datawrapper.de/v3/charts/cbBtB/export/png?unit=px&mode=rgb&width=650&height=auto&plain=false&scale=1&zoom=2&download=false&fullVector=false&ligatures=true&transparent=false&logo=auto&dark=false&borderWidth=0\n",
      "switch left\n",
      "changing cover to  False\n",
      "is cover?  False\n",
      "Adding image...\n",
      "https://api.datawrapper.de/v3/charts/sgeZE/export/png?unit=px&mode=rgb&width=650&height=auto&plain=false&scale=1&zoom=2&download=false&fullVector=false&ligatures=true&transparent=false&logo=auto&dark=false&borderWidth=0\n",
      "https://api.datawrapper.de/v3/charts/07re8/export/png?unit=px&mode=rgb&width=650&height=auto&plain=false&scale=1&zoom=2&download=false&fullVector=false&ligatures=true&transparent=false&logo=auto&dark=false&borderWidth=0\n",
      "switch right\n",
      "https://api.datawrapper.de/v3/charts/L1fop/export/png?unit=px&mode=rgb&width=650&height=auto&plain=false&scale=1&zoom=2&download=false&fullVector=false&ligatures=true&transparent=false&logo=auto&dark=false&borderWidth=0\n",
      "https://api.datawrapper.de/v3/charts/XDfun/export/png?unit=px&mode=rgb&width=650&height=auto&plain=false&scale=1&zoom=2&download=false&fullVector=false&ligatures=true&transparent=false&logo=auto&dark=false&borderWidth=0\n",
      "https://api.datawrapper.de/v3/charts/VaC8T/export/png?unit=px&mode=rgb&width=650&height=auto&plain=false&scale=1&zoom=2&download=false&fullVector=false&ligatures=true&transparent=false&logo=auto&dark=false&borderWidth=0\n",
      "switch left\n",
      "changing cover to  False\n",
      "is cover?  False\n",
      "Adding image...\n",
      "https://api.datawrapper.de/v3/charts/0HVul/export/png?unit=px&mode=rgb&width=650&height=auto&plain=false&scale=1&zoom=2&download=false&fullVector=false&ligatures=true&transparent=false&logo=auto&dark=false&borderWidth=0\n",
      "https://api.datawrapper.de/v3/charts/nGXhb/export/png?unit=px&mode=rgb&width=650&height=auto&plain=false&scale=1&zoom=2&download=false&fullVector=false&ligatures=true&transparent=false&logo=auto&dark=false&borderWidth=0\n",
      "https://api.datawrapper.de/v3/charts/CuzEL/export/png?unit=px&mode=rgb&width=650&height=auto&plain=false&scale=1&zoom=2&download=false&fullVector=false&ligatures=true&transparent=false&logo=auto&dark=false&borderWidth=0\n",
      "switch right\n",
      "https://api.datawrapper.de/v3/charts/mOmfl/export/png?unit=px&mode=rgb&width=650&height=auto&plain=false&scale=1&zoom=2&download=false&fullVector=false&ligatures=true&transparent=false&logo=auto&dark=false&borderWidth=0\n",
      "https://api.datawrapper.de/v3/charts/rRR1b/export/png?unit=px&mode=rgb&width=650&height=auto&plain=false&scale=1&zoom=2&download=false&fullVector=false&ligatures=true&transparent=false&logo=auto&dark=false&borderWidth=0\n",
      "is cover?  False\n"
     ]
    },
    {
     "data": {
      "text/plain": [
       "''"
      ]
     },
     "execution_count": 5,
     "metadata": {},
     "output_type": "execute_result"
    }
   ],
   "source": [
    "pdf = PDF('P', 'mm', 'Letter', default_label=\"InformePais.png\", secondary_label=\"MarketTrends.png\",\n",
    "                 title_color=(237, 28, 36), delete_temp=True)\n",
    "\n",
    "LINE_BREAK_SIZE = 5\n",
    "\n",
    "pdf.set_top_margin(10)\n",
    "pdf.set_left_margin(10)\n",
    "pdf.add_page(isCover=True)\n",
    "pdf.image('PortadaTrends.png', 0, 0, pdf.WIDTH)\n",
    "\n",
    "pdf.add_page()\n",
    "pdf.insert_title(text=\"1. Economic Acitivity\")\n",
    "\n",
    "pdf.insert_subtitle1(\"1.1 Gross Domestic Product (GDP)\")\n",
    "\n",
    "pdf.insert_subtitle2(\"1.1.1 Real Gross Domestic Product\")\n",
    "pdf.ln(LINE_BREAK_SIZE)\n",
    "# pdf.insert_paragraph('''''')\n",
    "\n",
    "# pdf.insert_chart('real-gdp', 'EbLbc', None, None, pdf.WIDTH/2-15, \n",
    "#                  650,\n",
    "#                  \"auto\" \n",
    "#                 #  292\n",
    "#                  )\n",
    "pdf.insert_650xauto_chart('real-gdp', 'EbLbc')\n",
    "\n",
    "# pdf.insert_subtitle2(\"Gross Output (GO)\")\n",
    "\n",
    "pdf.insert_subtitle2(\"1.1.2 Gross Output (GO)\")\n",
    "pdf.ln(LINE_BREAK_SIZE)\n",
    "# pdf.insert_paragraph('''''')\n",
    "\n",
    "pdf.insert_650xauto_chart('real-go', 'CmAvD')\n",
    "\n",
    "# pdf.insert_subtitle1(\"Gross Domestic Product (GDP)\")\n",
    "\n",
    "\n",
    "pdf.insert_subtitle1(\"1.2 Industrial Production Index (IPI)\")\n",
    "\n",
    "pdf.insert_WIDTHxHEIGHT_chart('industrial-production-index', 'LtWGs',\n",
    "                              650, 280)\n",
    "\n",
    "pdf.insert_subtitle1(\"1.3 Demand for Cyclical Consumer Goods\")\n",
    "\n",
    "pdf.insert_subtitle2(\"1.3.1 Housing Demand\")\n",
    "\n",
    "pdf.insert_650xauto_chart('building-permits', '4avor')\n",
    "\n",
    "pdf.insert_subtitle2(\"1.3.2 Auto Demand\")\n",
    "pdf.ln(LINE_BREAK_SIZE)\n",
    "\n",
    "pdf.insert_650xauto_chart('domestic-auto-inventories', 'fkaMa')\n",
    "\n",
    "pdf.insert_WIDTHxHEIGHT_chart('auto-inventory-sales-ratio', 'DfB27',\n",
    "                              650, 400)\n",
    "\n",
    "pdf.insert_650xauto_chart('total-vehicle-sales', '3FVph')\n",
    "\n",
    "pdf.insert_title(text=\"2. Labor Market\")\n",
    "\n",
    "pdf.insert_subtitle1(\"2.1 Unemployment\")\n",
    "\n",
    "pdf.insert_650xauto_chart('unemployment-rate', 'q7Opu')\n",
    "\n",
    "pdf.insert_subtitle1(\"2.2 Initial Jobless Claims\")\n",
    "\n",
    "pdf.insert_WIDTHxHEIGHT_chart('initial-weekly-jobless-claims', 'uMzLY',\n",
    "                              650, 400)\n",
    "\n",
    "pdf.insert_title(text=\"3. Inflation and Prices\")\n",
    "\n",
    "pdf.insert_subtitle1(\"3.1 Money Supply\")\n",
    "\n",
    "pdf.insert_650xauto_chart('m1-money-supply', '1HtAw')\n",
    "\n",
    "pdf.insert_subtitle1(\"3.2 Monetary Policy\")\n",
    "\n",
    "pdf.insert_650xauto_chart('monetary-base', 'y4idO')\n",
    "\n",
    "pdf.insert_WIDTHxHEIGHT_chart('3-month-libor', 'xljW4', 650, 400)\n",
    "\n",
    "pdf.insert_650xauto_chart('overnight-repo-rate', 'cbBtB')\n",
    "\n",
    "pdf.insert_650xauto_chart('fed-funds-rate', 'sgeZE')\n",
    "\n",
    "pdf.insert_650xauto_chart('interest-on-reserve-balances', '07re8')\n",
    "\n",
    "pdf.ln(15)\n",
    "pdf.insert_subtitle1(\"3.3 Stock Market\")\n",
    "\n",
    "pdf.insert_650xauto_chart('sp-500', 'L1fop')\n",
    "\n",
    "pdf.insert_650xauto_chart('nasdaq-composite-index', 'XDfun')\n",
    "\n",
    "pdf.insert_650xauto_chart('dow-jones-industrial-average', 'VaC8T')\n",
    "\n",
    "\n",
    "pdf.ln(15)\n",
    "pdf.insert_subtitle1(\"3.4 Consumer Price Index (CPI)\")\n",
    "\n",
    "pdf.insert_650xauto_chart('consumer-price-index-for-all-urban-consumers', '0HVul')\n",
    "\n",
    "pdf.insert_650xauto_chart('sticky-price-consumer-price-index-less-food-and-energy', 'nGXhb')\n",
    "\n",
    "pdf.insert_650xauto_chart('personal-consumption-expenditures-excluding-food-and-energy', 'CuzEL')\n",
    "\n",
    "pdf.ln(15)\n",
    "pdf.insert_subtitle1(\"3.5 Producer Price Index (Final Demand)\")\n",
    "\n",
    "pdf.insert_650xauto_chart('producer-price-index-by-commodity-final-demand', 'mOmfl')\n",
    "\n",
    "pdf.insert_subtitle1(\"3.6 Forward Inflation\")\n",
    "\n",
    "pdf.insert_650xauto_chart('10-year-expected-inflation', 'rRR1b')\n",
    "\n",
    "# pdf.add_page()\n",
    "# pdf.insert_title(text=\"Economic Acitivity\")\n",
    "# pdf.insert_title(text=\"This is a test\")\n",
    "# pdf.insert_420x280_chart('GDPC1', 'EbLbc')\n",
    "pdf.output(\"united-states-report-ufm-market-trends.pdf\", \"F\")"
   ]
  },
  {
   "cell_type": "markdown",
   "id": "f62aa24b-a3bf-4f41-83da-65adcd7cfc15",
   "metadata": {},
   "source": [
    "# Upload to Cloud Storage"
   ]
  },
  {
   "cell_type": "code",
   "execution_count": 6,
   "id": "fb3f4f11-9443-4b67-a370-e3c0caf337ff",
   "metadata": {},
   "outputs": [],
   "source": [
    "# Not needed in Vertex AI\n",
    "# from google.colab import auth\n",
    "# auth.authenticate_user()\n",
    "\n",
    "project_id = 'ufm-market-trends'"
   ]
  },
  {
   "cell_type": "code",
   "execution_count": 7,
   "id": "c803d123-43b4-451c-b87f-51f7ebf4ca43",
   "metadata": {},
   "outputs": [],
   "source": [
    "from googleapiclient.discovery import build\n",
    "gcs_service = build('storage', 'v1')"
   ]
  },
  {
   "cell_type": "code",
   "execution_count": 8,
   "id": "62bdf99e-31e0-43f3-8f4c-f8ce9f506904",
   "metadata": {},
   "outputs": [],
   "source": [
    "from googleapiclient.http import MediaFileUpload\n",
    "\n",
    "def upload_to_cloud_storage(local_name, destination_path=None):\n",
    "  media = MediaFileUpload(local_name, \n",
    "                          mimetype='text/plain',\n",
    "                          resumable=True)\n",
    "\n",
    "  request = gcs_service.objects().insert(bucket='ufm-market-trends', \n",
    "                                        name=(\n",
    "                                            destination_path\n",
    "                                            if destination_path!=None\n",
    "                                            else \"united-states/\"+local_name),\n",
    "                                        media_body=media)\n",
    "\n",
    "  response = None\n",
    "  while response is None:\n",
    "    # _ is a placeholder for a progress object that we ignore.\n",
    "    # (Our file is small, so we skip reporting progress.)\n",
    "    _, response = request.next_chunk()\n",
    "\n",
    "  print('Upload complete')\n",
    "  print('https://console.cloud.google.com/storage/browser?project={}'.format(project_id))"
   ]
  },
  {
   "cell_type": "code",
   "execution_count": 9,
   "id": "25a01f79-9e00-4892-8ca7-0eae5b7c4681",
   "metadata": {},
   "outputs": [
    {
     "name": "stdout",
     "output_type": "stream",
     "text": [
      "Upload complete\n",
      "https://console.cloud.google.com/storage/browser?project=ufm-market-trends\n"
     ]
    }
   ],
   "source": [
    "upload_to_cloud_storage(\"united-states-report-ufm-market-trends.pdf\")"
   ]
  },
  {
   "cell_type": "code",
   "execution_count": null,
   "id": "c10dcd8a-1b55-40d6-b1e7-03ae2a94d69a",
   "metadata": {},
   "outputs": [],
   "source": []
  },
  {
   "cell_type": "code",
   "execution_count": null,
   "id": "62119459-31ce-493e-bc51-1add83e10cb3",
   "metadata": {},
   "outputs": [],
   "source": []
  }
 ],
 "metadata": {
  "kernelspec": {
   "display_name": "Python (Local)",
   "language": "python",
   "name": "local-base"
  },
  "language_info": {
   "codemirror_mode": {
    "name": "ipython",
    "version": 3
   },
   "file_extension": ".py",
   "mimetype": "text/x-python",
   "name": "python",
   "nbconvert_exporter": "python",
   "pygments_lexer": "ipython3",
   "version": "3.7.12"
  }
 },
 "nbformat": 4,
 "nbformat_minor": 5
}
